{
 "cells": [
  {
   "cell_type": "markdown",
   "metadata": {},
   "source": [
    "# TEXT SUMMARIZATION"
   ]
  },
  {
   "cell_type": "markdown",
   "metadata": {},
   "source": [
    "# 1) EXTRACTIVE TEXT SUMMARIZATION USING GENSIM "
   ]
  },
  {
   "cell_type": "code",
   "execution_count": 2,
   "metadata": {},
   "outputs": [],
   "source": [
    "import numpy as np\n",
    "import pandas as pd\n",
    "from gensim.summarization import summarize\n",
    "from bs4 import BeautifulSoup\n",
    "import lxml\n",
    "import os"
   ]
  },
  {
   "cell_type": "code",
   "execution_count": 6,
   "metadata": {},
   "outputs": [
    {
     "data": {
      "text/plain": [
       "['0a000f521734500aa360bf6bb2bb31446e4d66cd.story',\n",
       " '0a0a4c90d59df9e36ffec4ba306b4f20f3ba4acb.story',\n",
       " '0a0aa464d262b903f44b0f8eaa67f13dd1946cfd.story',\n",
       " '0a0adc84ccbf9414613e145a3795dccc4828ddd4.story',\n",
       " '0a0b44620d0dec6fdfc1aa139ff51bcb36c56c51.story',\n",
       " '0a0b59738a88e97ef66322a8c866d22ebf079289.story',\n",
       " '0a0c2f4e07ba05f3226e8afec1350ac82161cd2e.story',\n",
       " '0a0d11c125e4e4b061061f44b08f60cb5b8bf177.story',\n",
       " '0a0f56ebc5a0a67ed18de79d99b40a42d8058d04.story',\n",
       " '0a1ad82d161d90d758240407cb8c8fcebff4a212.story']"
      ]
     },
     "execution_count": 6,
     "metadata": {},
     "output_type": "execute_result"
    }
   ],
   "source": [
    "# lets see all the story files\n",
    "os.chdir(\"stories_text_summarization_dataset_test/\")\n",
    "os.listdir()"
   ]
  },
  {
   "cell_type": "code",
   "execution_count": 7,
   "metadata": {},
   "outputs": [],
   "source": [
    "# lets store all the test story files in a varialbe\n",
    "file_names = os.listdir()"
   ]
  },
  {
   "cell_type": "code",
   "execution_count": 8,
   "metadata": {},
   "outputs": [],
   "source": [
    "stories_list = []\n",
    "for name in file_names:\n",
    "    with open(name, 'r', errors='ignore') as myfile:\n",
    "        data=myfile.read()\n",
    "        stories_list.append(data)"
   ]
  },
  {
   "cell_type": "code",
   "execution_count": 10,
   "metadata": {},
   "outputs": [
    {
     "data": {
      "text/plain": [
       "'Rory McIlroy is off to a good start at the Scottish Open. He\\'s hoping for a good finish, too, after missing the cut at the Irish Open.\\n\\nMcIlroy shot a course record 7-under-par 64 at Royal Aberdeen on Thursday, and he was actually the second player to better the old mark -- Sweden\\'s Kristoffer Broberg had earlier fired a 65.\\n\\nMcIlroy carded eight birdies and one bogey in windy, chilly conditions.\\n\\n\"Going out this morning in these conditions I thought anything in the 60s would be a good score, so to shoot something better than that is pleasing,\" McIlroy was quoted as saying by the European Tour\\'s website.\\n\\nA win Sunday would be the perfect way for former No. 1 McIlroy to prepare for the British Open, which starts next week at Royal Liverpool. He won the last of his two majors in 2012.\\n\\n\"Everything was pretty much on,\" McIlroy said. \"I controlled my ball flight really well, which is the key to me playing well in these conditions and on these courses.\\n\\n\"I\\'ve been working the last 10 days on keeping the ball down, hitting easy shots and taking spin off it, and I went out there today and really trusted what I practiced.\"\\n\\nLast year Phil Mickelson used the Scottish Open at Castle Stuart as the springboard to his British Open title and his 68 leaves him well within touching distance of McIlroy.\\n\\nMickelson needs a jolt of confidence given that \\'Lefty\\' has slipped outside the top 10 in the rankings and hasn\\'t finished in the top 10 on the PGA Tour this season.\\n\\n\"I thought it was tough conditions,\" Mickelson said in an audio interview posted on the European Tour\\'s website. \"I was surprised to see some low scores out there because it didn\\'t seem like it was playing easy, and the wind was pretty strong.\\n\\n\"I felt like I played well and had a good putting day. It was a good day.\"\\n\\nLast year\\'s U.S. Open champion, Justin Rose, was tied for 13th with a 69 but Jonas Blixt -- who tied for second at the Masters -- was well adrift following a 74.\\n\\n'"
      ]
     },
     "execution_count": 10,
     "metadata": {},
     "output_type": "execute_result"
    }
   ],
   "source": [
    "# lest see our first story to make sense of data\n",
    "stories_list[0]"
   ]
  },
  {
   "cell_type": "code",
   "execution_count": 11,
   "metadata": {},
   "outputs": [
    {
     "data": {
      "text/plain": [
       "'The White House Wednesday said it was \"puzzled\" by a former spokesman\\'s memoir in which he accuses the Bush administration of being mired in propaganda and political spin and at times playing loose with the truth.\\n\\nFormer White House spokesman Scott McClellan blasts President Bush and advisers in a new book.\\n\\nIn excerpts from a 341-page book to be released Monday, Scott McClellan writes on the war in Iraq that Bush \"and his advisers confused the propaganda campaign with the high level of candor and honesty so fundamentally needed to build and then sustain public support during a time of war.\"\\n\\n\"[I]n this regard, he was terribly ill-served by his top advisers, especially those involved directly in national security,\" McClellan wrote.\\n\\nWhite House spokeswoman Dana Perino called McClellan\\'s description of his time at the White House \"sad.\"  Read excerpts from the book Â»\\n\\n\"Scott, we now know, is disgruntled about his experience at the White House,\" Perino said. \"For those of us who fully supported him, before, during and after he was press secretary, we are puzzled. It is sad. This is not the Scott we knew.\"\\n\\nMcClellan\\'s former White House colleagues had harsher reactions to McClellan\\'s book.\\n\\nFrances Townsend, former Homeland Security adviser to Bush, said advisers to the president should speak up when they have policy concerns.\\n\\n\"Scott never did that on any of these issues as best I can remember or as best as I know from any of my White House colleagues,\" said Townsend, now a CNN contributor. \"For him to do this now strikes me as self-serving, disingenuous and unprofessional.\"\\n\\nFox News contributor and former White House adviser Karl Rove said on that network Tuesday that the excerpts from the book he\\'s read sound more like they were written by a \"left-wing blogger\" than his former colleague.\\n\\nRove declined to comment to CNN after the Fox News interview.\\n\\nIn a brief phone conversation with CNN Tuesday evening, McClellan made clear that he stands behind the accuracy of his book. McClellan said he cannot give on-the-record quotes yet because of an agreement with his publisher.  Watch further details emerge from McClellan\\'s book Â»\\n\\nAnother former Bush aide-turned-critic says the reaction to McClellan\\'s book by his former colleagues has a familiar ring to it.\\n\\n\"They\\'re saying some of the exact same things about McClellan they said about me,\" Richard Clarke, the former White House counterterrorism chief, told CNN.\\n\\nClarke left government in 2003. The following year, he accused President Bush of ignoring warnings about the September 11, 2001, attacks on New York and Washington and of using the attacks to push for war with Iraq.\\n\\nBut Clarke gave McClellan little credit for speaking out now.\\n\\n\"I think the difference with McClellan\\'s book is he\\'s now telling us something we all know -- that the war with Iraq was a disastrous war [and] was sold with deception. It\\'s a little different when you say something as I did and a few other people did four or five years ago, when the war was popular and when we were unpopular for saying what we said.\"\\n\\nBesides his criticism of how the administration handled the run-up to the Iraq war, McClellan also sharply criticizes the administration on its handling of Hurricane Katrina and its aftermath in the book.\\n\\n\"One of the worst disasters in our nation\\'s history became one of the biggest disasters in Bush\\'s presidency,\" he wrote. \"Katrina and the botched federal response to it would largely come to define Bush\\'s second term.\"\\n\\nEarly in the book, which CNN obtained late Tuesday, McClellan wrote that he believes he told untruths on Bush\\'s behalf in the case of CIA agent Valerie Plame, whose identity was leaked to the media.\\n\\nRove and fellow White House advisers Elliot Abrams and I. Lewis \"Scooter\" Libby were accused of leaking the name of Plame -- whose husband, former U.S. ambassador Joseph Wilson, had gone public with charges the Bush administration had \"twisted\" facts to justify the war in Iraq.\\n\\nLibby was convicted last year of lying to a grand jury and federal agents investigating the leak. Bush commuted his 30-month prison term, calling it excessive. At the time, McClellan called the three \"good individuals\" and said he spoke to them before telling reporters they were not involved.\\n\\n\"I had allowed myself to be deceived into unknowingly passing along a falsehood,\" he wrote. \"It would ultimately prove fatal to my ability to serve the president effectively.\"\\n\\nMcClellan wrote he didn\\'t realize what he said was untrue until reporters began digging up details of the case almost two years later.\\n\\nA former spokesman for Bush when he was governor of Texas, McClellan was named White House press secretary in 2003, replacing Ari Fleischer. McClellan had previously been a deputy press secretary and was the traveling spokesman for the Bush campaign during the 2000 election.\\n\\nHe announced he was resigning in April 2006 at a news conference with Bush.\\n\\n\"One of these days, he and I are going to be rocking in chairs in Texas talking about the good old days of his time as the press secretary,\" Bush said at that conference. \"And I can assure you, I will feel the same way then that I feel now, that I can say to Scott, job well done.\"\\n\\n'"
      ]
     },
     "execution_count": 11,
     "metadata": {},
     "output_type": "execute_result"
    }
   ],
   "source": [
    "stories_list[6]"
   ]
  },
  {
   "cell_type": "code",
   "execution_count": 13,
   "metadata": {},
   "outputs": [
    {
     "data": {
      "text/plain": [
       "'\"Going out this morning in these conditions I thought anything in the 60s would be a good score, so to shoot something better than that is pleasing,\" McIlroy was quoted as saying by the European Tour\\'s website.\\n\"I thought it was tough conditions,\" Mickelson said in an audio interview posted on the European Tour\\'s website.\\n\"I felt like I played well and had a good putting day.'"
      ]
     },
     "execution_count": 13,
     "metadata": {},
     "output_type": "execute_result"
    }
   ],
   "source": [
    "# Now lets use gensim summarization to get the sumamry of first story\n",
    "summarize(stories_list[0])"
   ]
  },
  {
   "cell_type": "markdown",
   "metadata": {},
   "source": [
    "- As we can see the gensim summarize function is doing good in extracting the summary\n",
    "- Lets use the summarize funciton to give all summaries of the test stories"
   ]
  },
  {
   "cell_type": "code",
   "execution_count": 14,
   "metadata": {},
   "outputs": [
    {
     "name": "stdout",
     "output_type": "stream",
     "text": [
      "\"Going out this morning in these conditions I thought anything in the 60s would be a good score, so to shoot something better than that is pleasing,\" McIlroy was quoted as saying by the European Tour's website.\n",
      "\n",
      "\n",
      "The second, \"Promised Land,\" stars Matt Damon and explores how the use of fracking to drill for natural gas can pose health and environmental dangers.\n",
      "Critics of \"Zero Dark Thirty\" fear that audiences will accept as true the film's story line that torture was effective in eliciting information to locate bin Laden.\n",
      "Regardless of whether \"Zero Dark Thirty\" and \"Promised Land\" intended to promote any message, people who watch them will be \"educated\" in some way on torture and fracking -- even if very subtly.\n",
      "\n",
      "\n",
      "Across the country, math geeks in museums, schools, private groups and elsewhere gather to celebrate the number pi, approximately 3.14.\n",
      "Princeton, New Jersey, kicks off Pi Day weekend on Thursday night with a reading by physicist Charles Adler, then heads into a full day of activities on Friday, including a walking tour of Einstein's neighborhood and a pizza pie-making contest.\n",
      "The pie-eating contest takes place at McCaffrey's supermarket, while an Einstein look-alike competition will match mustaches and wild gray hair at the Princeton Public Library.\n",
      "The \"brainiac town\" residents \"love this event because it's a way for them to celebrate how quirky they are,\" said Mimi Omiecinski, owner of the Princeton Tour Company, who started Princeton Pi Day in 2009.\n",
      "Along with her fascination with Albert Einstein, Omiecinski was inspired to launch a town-wide Pi Day after she heard that the Princeton University mathematics department celebrates March 14 with pie-eating and pi-reciting (As a Princeton student, I got second place for most digits in 2005 and 2006).\n",
      "\"People all around the world are hungry to make science and math fun and interesting,\" he said in an e-mail.\n",
      "\n",
      "\n",
      "Beijing (CNN) -- Families of Chinese passengers on board missing Malaysia Airlines Flight 370 have engaged in a rare late-night act of civil disobedience in this tightly-controlled city.\n",
      "After unsuccessfully demanding a meeting with the Malaysian ambassador at their hotel for more than eight hours, angry relatives pushed past police officers who tried to stop them from making a midnight march across the Chinese capital.\n",
      "On several occasions within the last two weeks, Malaysian officials in Beijing and Kuala Lumpur publicly pledged to meet the Chinese families within a matter of 24 hours, but then failed to show up for talks.\n",
      "\n",
      "\n",
      "\n",
      "\n",
      "\n",
      "\n",
      "\n",
      "\n",
      "The White House Wednesday said it was \"puzzled\" by a former spokesman's memoir in which he accuses the Bush administration of being mired in propaganda and political spin and at times playing loose with the truth.\n",
      "Former White House spokesman Scott McClellan blasts President Bush and advisers in a new book.\n",
      "In excerpts from a 341-page book to be released Monday, Scott McClellan writes on the war in Iraq that Bush \"and his advisers confused the propaganda campaign with the high level of candor and honesty so fundamentally needed to build and then sustain public support during a time of war.\"\n",
      "Fox News contributor and former White House adviser Karl Rove said on that network Tuesday that the excerpts from the book he's read sound more like they were written by a \"left-wing blogger\" than his former colleague.\n",
      "\n",
      "\n",
      "Twitter is on the verge of its initial public offering and everyone's knickers have been in a knot all week over the company's lack of management diversity -- that is, women.\n",
      "Some facts: Women make up 6% of chief executives at the leading 100 tech companies, and that has taken years to accomplish.\n",
      "In the past five years, women and minorities have lost ground despite evidence strongly suggesting that gender parity and board diversity have positive effects on profitability.\n",
      "The company's immediate response  focused on a \"paucity of candidates.\" The tech industry has a well-documented pipeline problem, one largely the result of gender stereotypes that reach into the educational system.\n",
      "Venture capitalists are less likely to invest in startups if there are women involved in their management; investors actively reduce holdings in companies that appoint female directors.\n",
      "\n",
      "\n",
      "The man suspected of trying to attack the Dutch royal family by crashing his car near their bus has died, Dutch police said Friday.\n",
      "Five people, as well as the driver, were killed and 12 were wounded in the incident, which happened during the country's annual Queen's Day celebration, police said.\n",
      "Crowds had lined the streets to see Queen Beatrix and her family ride by in an open-top bus during the Netherlands' annual holiday.\n",
      "\n",
      "\n",
      "Mao Zedong proclaims the founding of the People's Republic of China in Beijing on October 1, 1949.\n",
      "It was on the Tiananmen rostrum where Chairman Mao formally proclaimed the founding of the People's Republic.\n",
      "In Mao's ideology, the Chinese people found hope in a New China, wherein citizens would always have a bowl of rice to eat and clothes to wear.\n",
      "Deng overturned most of Mao's policies and embarked upon reforming the economy and opening up the country to the outside world.\n",
      "The People's Republic of China marks its 60th anniversary on Thursday with 300,000 participants and 60 floats to highlight the country's achievements in various sectors of the society and economy.\n",
      "\n",
      "\n"
     ]
    }
   ],
   "source": [
    "for ind,story in enumerate(stories_list):\n",
    "    #print ('{}ind  Summary:'.format(ind))\n",
    "    print (summarize(story, ratio=0.1))\n",
    "    print(\"\\n\")"
   ]
  },
  {
   "cell_type": "code",
   "execution_count": null,
   "metadata": {},
   "outputs": [],
   "source": []
  }
 ],
 "metadata": {
  "kernelspec": {
   "display_name": "Python 3",
   "language": "python",
   "name": "python3"
  },
  "language_info": {
   "codemirror_mode": {
    "name": "ipython",
    "version": 3
   },
   "file_extension": ".py",
   "mimetype": "text/x-python",
   "name": "python",
   "nbconvert_exporter": "python",
   "pygments_lexer": "ipython3",
   "version": "3.7.1"
  }
 },
 "nbformat": 4,
 "nbformat_minor": 2
}
